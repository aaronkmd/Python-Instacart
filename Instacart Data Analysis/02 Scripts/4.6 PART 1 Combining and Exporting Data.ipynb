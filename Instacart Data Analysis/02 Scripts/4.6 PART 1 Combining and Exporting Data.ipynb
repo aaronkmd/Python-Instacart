{
 "cells": [
  {
   "cell_type": "markdown",
   "id": "0cc329b4-9cdb-4c16-92ea-81d7f116e1b3",
   "metadata": {},
   "source": [
    "# Exercise 4.6: PART 1 Combining and Exporting Data"
   ]
  },
  {
   "cell_type": "markdown",
   "id": "716b3cd9-7873-4beb-8650-f8fc33e4854f",
   "metadata": {},
   "source": [
    "## Contents:"
   ]
  },
  {
   "cell_type": "markdown",
   "id": "47b4d038-0a2e-4543-9882-ee79dc119d63",
   "metadata": {
    "jp-MarkdownHeadingCollapsed": true
   },
   "source": [
    "    0. Import Libraries"
   ]
  },
  {
   "cell_type": "markdown",
   "id": "61025875-c6f9-441d-8300-d381e2f211df",
   "metadata": {
    "jp-MarkdownHeadingCollapsed": true
   },
   "source": [
    "    1. Loading and Checking the Data"
   ]
  },
  {
   "cell_type": "markdown",
   "id": "1912f2ef-1c6e-4d6b-908c-5fccd7519e86",
   "metadata": {
    "jp-MarkdownHeadingCollapsed": true
   },
   "source": [
    "    2. Merging Dataframes"
   ]
  },
  {
   "cell_type": "markdown",
   "id": "79f0228e-ca27-4d92-a2a4-d191721caf0e",
   "metadata": {
    "jp-MarkdownHeadingCollapsed": true
   },
   "source": [
    "    3. Exporting Merged Dataframe as Pickle"
   ]
  },
  {
   "cell_type": "markdown",
   "id": "b1e2f49e-7dda-471f-a029-944856693a91",
   "metadata": {},
   "source": [
    "## 0. Import Libraries"
   ]
  },
  {
   "cell_type": "code",
   "execution_count": 1,
   "id": "0ff843cd-fe45-4aa4-a59e-dacf80a84544",
   "metadata": {},
   "outputs": [],
   "source": [
    "import pandas as pd\n",
    "import numpy as np\n",
    "import os"
   ]
  },
  {
   "cell_type": "markdown",
   "id": "20dbbf14-2bc5-44f4-a51c-c9cca368a5f7",
   "metadata": {},
   "source": [
    "## 1. Loading and Checking the Data"
   ]
  },
  {
   "cell_type": "code",
   "execution_count": 2,
   "id": "0958dc47-2553-462d-9321-6bed4922786d",
   "metadata": {},
   "outputs": [],
   "source": [
    "# Define the path to the data files\n",
    "path = '/Users/aaronkibler/CF Project 4 - Instacart Basket Analysis/02 Data'"
   ]
  },
  {
   "cell_type": "code",
   "execution_count": 3,
   "id": "34b5ff2f-e8ae-4eac-9daf-cd8138de9c53",
   "metadata": {},
   "outputs": [],
   "source": [
    "# Import the “orders_products_prior.csv” data set from the “Original Data” folder as df_ords_prior \n",
    "df_ords_prior = pd.read_csv(os.path.join(path, 'Original Data', 'orders_products_prior.csv'))"
   ]
  },
  {
   "cell_type": "code",
   "execution_count": 4,
   "id": "a7e5f98c-2cd2-46d5-b5d8-3a5cb84b11a1",
   "metadata": {},
   "outputs": [],
   "source": [
    "# Import the “orders_checked.csv” data set from your “Prepared Data” folder as df_ords\n",
    "df_ords = pd.read_csv(os.path.join(path, 'Prepared Data', 'orders_checked.csv'))"
   ]
  },
  {
   "cell_type": "code",
   "execution_count": 5,
   "id": "dda49833-6acd-49c0-90e9-1709e225dacf",
   "metadata": {},
   "outputs": [
    {
     "name": "stdout",
     "output_type": "stream",
     "text": [
      "   order_id  product_id  add_to_cart_order  reordered\n",
      "0         2       33120                  1          1\n",
      "1         2       28985                  2          1\n",
      "2         2        9327                  3          0\n",
      "3         2       45918                  4          1\n",
      "4         2       30035                  5          0\n",
      "<class 'pandas.core.frame.DataFrame'>\n",
      "RangeIndex: 32434489 entries, 0 to 32434488\n",
      "Data columns (total 4 columns):\n",
      " #   Column             Dtype\n",
      "---  ------             -----\n",
      " 0   order_id           int64\n",
      " 1   product_id         int64\n",
      " 2   add_to_cart_order  int64\n",
      " 3   reordered          int64\n",
      "dtypes: int64(4)\n",
      "memory usage: 989.8 MB\n",
      "None\n",
      "(32434489, 4)\n"
     ]
    }
   ],
   "source": [
    "# Checking \"orders_products_prior.csv\" data is correctly loaded\n",
    "print(df_ords_prior.head())\n",
    "print(df_ords_prior.info())\n",
    "print(df_ords_prior.shape)"
   ]
  },
  {
   "cell_type": "code",
   "execution_count": 6,
   "id": "4f064707-baa9-4098-a821-d6726cb36cbe",
   "metadata": {},
   "outputs": [
    {
     "name": "stdout",
     "output_type": "stream",
     "text": [
      "   Unnamed: 0.1  Unnamed: 0  order_id  user_id  order_number  \\\n",
      "0             0           0   2539329        1             1   \n",
      "1             1           1   2398795        1             2   \n",
      "2             2           2    473747        1             3   \n",
      "3             3           3   2254736        1             4   \n",
      "4             4           4    431534        1             5   \n",
      "\n",
      "   orders_day_of_week  order_hour_of_day  days_since_prior_order  \\\n",
      "0                   2                  8                     NaN   \n",
      "1                   3                  7                    15.0   \n",
      "2                   3                 12                    21.0   \n",
      "3                   4                  7                    29.0   \n",
      "4                   4                 15                    28.0   \n",
      "\n",
      "   is_first_order  \n",
      "0               1  \n",
      "1               0  \n",
      "2               0  \n",
      "3               0  \n",
      "4               0  \n",
      "<class 'pandas.core.frame.DataFrame'>\n",
      "RangeIndex: 3421083 entries, 0 to 3421082\n",
      "Data columns (total 9 columns):\n",
      " #   Column                  Dtype  \n",
      "---  ------                  -----  \n",
      " 0   Unnamed: 0.1            int64  \n",
      " 1   Unnamed: 0              int64  \n",
      " 2   order_id                int64  \n",
      " 3   user_id                 int64  \n",
      " 4   order_number            int64  \n",
      " 5   orders_day_of_week      int64  \n",
      " 6   order_hour_of_day       int64  \n",
      " 7   days_since_prior_order  float64\n",
      " 8   is_first_order          int64  \n",
      "dtypes: float64(1), int64(8)\n",
      "memory usage: 234.9 MB\n",
      "None\n",
      "(3421083, 9)\n"
     ]
    }
   ],
   "source": [
    "# Checking \"orders_checked.csv\" data is correctly loaded\n",
    "print(df_ords.head())\n",
    "print(df_ords.info())\n",
    "print(df_ords.shape)"
   ]
  },
  {
   "cell_type": "markdown",
   "id": "e792a59a-4973-4c5d-8021-91db52b3db01",
   "metadata": {},
   "source": [
    "## 2. Merging Dataframes"
   ]
  },
  {
   "cell_type": "code",
   "execution_count": 7,
   "id": "8f5005fd-5b9c-485f-a12b-40fdab32439c",
   "metadata": {},
   "outputs": [],
   "source": [
    "# Merge \"df_ords_prior\" with \"df_ords\"\n",
    "df_merged_large = df_ords.merge(df_ords_prior, on = 'order_id', indicator = True)"
   ]
  },
  {
   "cell_type": "code",
   "execution_count": 8,
   "id": "90ffc557-7f52-4511-8641-5517b08670a3",
   "metadata": {},
   "outputs": [
    {
     "data": {
      "text/plain": [
       "_merge\n",
       "both          32434489\n",
       "left_only            0\n",
       "right_only           0\n",
       "Name: count, dtype: int64"
      ]
     },
     "execution_count": 8,
     "metadata": {},
     "output_type": "execute_result"
    }
   ],
   "source": [
    "# Checking the merge using the \"value_counts()\" function\n",
    "df_merged_large['_merge'].value_counts()"
   ]
  },
  {
   "cell_type": "markdown",
   "id": "4d9c6f5a-f882-440f-bffd-6524c01efe9e",
   "metadata": {},
   "source": [
    "## 3. Export the merged dataframe as a Pickle"
   ]
  },
  {
   "cell_type": "code",
   "execution_count": 9,
   "id": "6d41684b",
   "metadata": {},
   "outputs": [
    {
     "name": "stdout",
     "output_type": "stream",
     "text": [
      "   Unnamed: 0.1  Unnamed: 0  order_id  user_id  order_number  \\\n",
      "0             0           0   2539329        1             1   \n",
      "1             0           0   2539329        1             1   \n",
      "2             0           0   2539329        1             1   \n",
      "3             0           0   2539329        1             1   \n",
      "4             0           0   2539329        1             1   \n",
      "\n",
      "   orders_day_of_week  order_hour_of_day  days_since_prior_order  \\\n",
      "0                   2                  8                     NaN   \n",
      "1                   2                  8                     NaN   \n",
      "2                   2                  8                     NaN   \n",
      "3                   2                  8                     NaN   \n",
      "4                   2                  8                     NaN   \n",
      "\n",
      "   is_first_order  product_id  add_to_cart_order  reordered _merge  \n",
      "0               1         196                  1          0   both  \n",
      "1               1       14084                  2          0   both  \n",
      "2               1       12427                  3          0   both  \n",
      "3               1       26088                  4          0   both  \n",
      "4               1       26405                  5          0   both  \n",
      "<class 'pandas.core.frame.DataFrame'>\n",
      "RangeIndex: 32434489 entries, 0 to 32434488\n",
      "Data columns (total 13 columns):\n",
      " #   Column                  Dtype   \n",
      "---  ------                  -----   \n",
      " 0   Unnamed: 0.1            int64   \n",
      " 1   Unnamed: 0              int64   \n",
      " 2   order_id                int64   \n",
      " 3   user_id                 int64   \n",
      " 4   order_number            int64   \n",
      " 5   orders_day_of_week      int64   \n",
      " 6   order_hour_of_day       int64   \n",
      " 7   days_since_prior_order  float64 \n",
      " 8   is_first_order          int64   \n",
      " 9   product_id              int64   \n",
      " 10  add_to_cart_order       int64   \n",
      " 11  reordered               int64   \n",
      " 12  _merge                  category\n",
      "dtypes: category(1), float64(1), int64(11)\n",
      "memory usage: 2.9 GB\n",
      "None\n",
      "(32434489, 13)\n"
     ]
    }
   ],
   "source": [
    "# Perform a final check of the dataframe before exporting\n",
    "print(df_merged_large.head())\n",
    "print(df_merged_large.info())\n",
    "print(df_merged_large.shape)"
   ]
  },
  {
   "cell_type": "code",
   "execution_count": 10,
   "id": "25c5a12b-0483-4e95-9e89-0c6375879f27",
   "metadata": {},
   "outputs": [],
   "source": [
    "# Export data to pkl\n",
    "df_merged_large.to_pickle(os.path.join(path, 'Prepared Data', 'orders_products_combined.pkl'))"
   ]
  },
  {
   "cell_type": "markdown",
   "id": "3ebb48f3-4a1f-4e23-90ae-2a1fb6d538b1",
   "metadata": {},
   "source": [
    "# End of Exercise 4.6 Part 1"
   ]
  }
 ],
 "metadata": {
  "kernelspec": {
   "display_name": "Python 3 (ipykernel)",
   "language": "python",
   "name": "python3"
  },
  "language_info": {
   "codemirror_mode": {
    "name": "ipython",
    "version": 3
   },
   "file_extension": ".py",
   "mimetype": "text/x-python",
   "name": "python",
   "nbconvert_exporter": "python",
   "pygments_lexer": "ipython3",
   "version": "3.11.7"
  }
 },
 "nbformat": 4,
 "nbformat_minor": 5
}
