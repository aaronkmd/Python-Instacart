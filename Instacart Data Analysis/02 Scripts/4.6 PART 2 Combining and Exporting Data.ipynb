{
 "cells": [
  {
   "cell_type": "markdown",
   "id": "0cc329b4-9cdb-4c16-92ea-81d7f116e1b3",
   "metadata": {},
   "source": [
    "# Exercise 4.6: PART 2 Combining and Exporting Data"
   ]
  },
  {
   "cell_type": "markdown",
   "id": "716b3cd9-7873-4beb-8650-f8fc33e4854f",
   "metadata": {},
   "source": [
    "## Contents:"
   ]
  },
  {
   "cell_type": "markdown",
   "id": "47b4d038-0a2e-4543-9882-ee79dc119d63",
   "metadata": {
    "jp-MarkdownHeadingCollapsed": true
   },
   "source": [
    "    0. Import Libraries"
   ]
  },
  {
   "cell_type": "markdown",
   "id": "61025875-c6f9-441d-8300-d381e2f211df",
   "metadata": {
    "jp-MarkdownHeadingCollapsed": true
   },
   "source": [
    "    1. Loading and Checking the Data"
   ]
  },
  {
   "cell_type": "markdown",
   "id": "1912f2ef-1c6e-4d6b-908c-5fccd7519e86",
   "metadata": {
    "jp-MarkdownHeadingCollapsed": true
   },
   "source": [
    "    2. Merging Dataframes"
   ]
  },
  {
   "cell_type": "markdown",
   "id": "79f0228e-ca27-4d92-a2a4-d191721caf0e",
   "metadata": {
    "jp-MarkdownHeadingCollapsed": true
   },
   "source": [
    "    3. Exporting Merged Dataframe"
   ]
  },
  {
   "cell_type": "markdown",
   "id": "b1e2f49e-7dda-471f-a029-944856693a91",
   "metadata": {},
   "source": [
    "## 0. Import Libraries"
   ]
  },
  {
   "cell_type": "code",
   "execution_count": 1,
   "id": "0ff843cd-fe45-4aa4-a59e-dacf80a84544",
   "metadata": {},
   "outputs": [],
   "source": [
    "import pandas as pd\n",
    "import numpy as np\n",
    "import os"
   ]
  },
  {
   "cell_type": "markdown",
   "id": "20dbbf14-2bc5-44f4-a51c-c9cca368a5f7",
   "metadata": {},
   "source": [
    "## 1. Loading and Checking the Data"
   ]
  },
  {
   "cell_type": "code",
   "execution_count": 2,
   "id": "0958dc47-2553-462d-9321-6bed4922786d",
   "metadata": {},
   "outputs": [],
   "source": [
    "# Define the path to the data files\n",
    "path = '/Users/aaronkibler/CF Project 4 - Instacart Basket Analysis/02 Data'"
   ]
  },
  {
   "cell_type": "code",
   "execution_count": 3,
   "id": "34b5ff2f-e8ae-4eac-9daf-cd8138de9c53",
   "metadata": {},
   "outputs": [],
   "source": [
    "# Import the “orders_products_combined.pkl” data from the “Prepared Data” folder as df_ords_prods_combined \n",
    "df_ords_prods_combined = pd.read_pickle(os.path.join(path, 'Prepared Data', 'orders_products_combined.pkl'))"
   ]
  },
  {
   "cell_type": "code",
   "execution_count": 4,
   "id": "dda49833-6acd-49c0-90e9-1709e225dacf",
   "metadata": {},
   "outputs": [
    {
     "name": "stdout",
     "output_type": "stream",
     "text": [
      "   Unnamed: 0.1  Unnamed: 0  order_id  user_id  order_number  \\\n",
      "0             0           0   2539329        1             1   \n",
      "1             0           0   2539329        1             1   \n",
      "2             0           0   2539329        1             1   \n",
      "3             0           0   2539329        1             1   \n",
      "4             0           0   2539329        1             1   \n",
      "\n",
      "   orders_day_of_week  order_hour_of_day  days_since_prior_order  \\\n",
      "0                   2                  8                     NaN   \n",
      "1                   2                  8                     NaN   \n",
      "2                   2                  8                     NaN   \n",
      "3                   2                  8                     NaN   \n",
      "4                   2                  8                     NaN   \n",
      "\n",
      "   is_first_order  product_id  add_to_cart_order  reordered _merge  \n",
      "0               1         196                  1          0   both  \n",
      "1               1       14084                  2          0   both  \n",
      "2               1       12427                  3          0   both  \n",
      "3               1       26088                  4          0   both  \n",
      "4               1       26405                  5          0   both  \n",
      "<class 'pandas.core.frame.DataFrame'>\n",
      "RangeIndex: 32434489 entries, 0 to 32434488\n",
      "Data columns (total 13 columns):\n",
      " #   Column                  Dtype   \n",
      "---  ------                  -----   \n",
      " 0   Unnamed: 0.1            int64   \n",
      " 1   Unnamed: 0              int64   \n",
      " 2   order_id                int64   \n",
      " 3   user_id                 int64   \n",
      " 4   order_number            int64   \n",
      " 5   orders_day_of_week      int64   \n",
      " 6   order_hour_of_day       int64   \n",
      " 7   days_since_prior_order  float64 \n",
      " 8   is_first_order          int64   \n",
      " 9   product_id              int64   \n",
      " 10  add_to_cart_order       int64   \n",
      " 11  reordered               int64   \n",
      " 12  _merge                  category\n",
      "dtypes: category(1), float64(1), int64(11)\n",
      "memory usage: 2.9 GB\n",
      "None\n"
     ]
    },
    {
     "data": {
      "text/plain": [
       "(32434489, 13)"
      ]
     },
     "execution_count": 4,
     "metadata": {},
     "output_type": "execute_result"
    }
   ],
   "source": [
    "# Checking \"orders_products_combined.pkl\" data is correctly loaded\n",
    "print(df_ords_prods_combined.head())\n",
    "print(df_ords_prods_combined.info())\n",
    "df_ords_prods_combined.shape"
   ]
  },
  {
   "cell_type": "code",
   "execution_count": 5,
   "id": "a7e5f98c-2cd2-46d5-b5d8-3a5cb84b11a1",
   "metadata": {},
   "outputs": [],
   "source": [
    "# Import the “products_checked.csv” data from the “Prepared Data” folder as df_prods\n",
    "df_prods = pd.read_csv(os.path.join(path, 'Prepared Data', 'products_checked.csv'))"
   ]
  },
  {
   "cell_type": "code",
   "execution_count": 6,
   "id": "4f064707-baa9-4098-a821-d6726cb36cbe",
   "metadata": {},
   "outputs": [
    {
     "name": "stdout",
     "output_type": "stream",
     "text": [
      "   Unnamed: 0  product_id                                       product_name  \\\n",
      "0           0           1                         Chocolate Sandwich Cookies   \n",
      "1           1           2                                   All-Seasons Salt   \n",
      "2           2           3               Robust Golden Unsweetened Oolong Tea   \n",
      "3           3           4  Smart Ones Classic Favorites Mini Rigatoni Wit...   \n",
      "4           4           5                          Green Chile Anytime Sauce   \n",
      "\n",
      "   aisle_id  department_id  prices  \n",
      "0        61             19     5.8  \n",
      "1       104             13     9.3  \n",
      "2        94              7     4.5  \n",
      "3        38              1    10.5  \n",
      "4         5             13     4.3  \n",
      "<class 'pandas.core.frame.DataFrame'>\n",
      "RangeIndex: 49672 entries, 0 to 49671\n",
      "Data columns (total 6 columns):\n",
      " #   Column         Non-Null Count  Dtype  \n",
      "---  ------         --------------  -----  \n",
      " 0   Unnamed: 0     49672 non-null  int64  \n",
      " 1   product_id     49672 non-null  int64  \n",
      " 2   product_name   49672 non-null  object \n",
      " 3   aisle_id       49672 non-null  int64  \n",
      " 4   department_id  49672 non-null  int64  \n",
      " 5   prices         49672 non-null  float64\n",
      "dtypes: float64(1), int64(4), object(1)\n",
      "memory usage: 2.3+ MB\n",
      "None\n"
     ]
    },
    {
     "data": {
      "text/plain": [
       "(49672, 6)"
      ]
     },
     "execution_count": 6,
     "metadata": {},
     "output_type": "execute_result"
    }
   ],
   "source": [
    "# Checking \"products_checked.csv\" data is correctly loaded\n",
    "print(df_prods.head())\n",
    "print(df_prods.info())\n",
    "df_prods.shape"
   ]
  },
  {
   "cell_type": "markdown",
   "id": "e792a59a-4973-4c5d-8021-91db52b3db01",
   "metadata": {},
   "source": [
    "## 2. Merging Dataframes"
   ]
  },
  {
   "cell_type": "code",
   "execution_count": 7,
   "id": "68fd596b-eda6-4231-a3c4-c153d235fc58",
   "metadata": {},
   "outputs": [],
   "source": [
    "# Before merging, I will drop the unnecessary columns from both dataframes\n",
    "df_ords_prods_combined = df_ords_prods_combined.drop(['Unnamed: 0.1', 'Unnamed: 0', '_merge'], axis=1)\n",
    "df_prods = df_prods.drop(['Unnamed: 0'], axis=1,)"
   ]
  },
  {
   "cell_type": "code",
   "execution_count": 8,
   "id": "e571b486-819c-4760-b5f3-aa565ee9de9f",
   "metadata": {},
   "outputs": [
    {
     "name": "stdout",
     "output_type": "stream",
     "text": [
      "   order_id  user_id  order_number  orders_day_of_week  order_hour_of_day  \\\n",
      "0   2539329        1             1                   2                  8   \n",
      "1   2539329        1             1                   2                  8   \n",
      "2   2539329        1             1                   2                  8   \n",
      "3   2539329        1             1                   2                  8   \n",
      "4   2539329        1             1                   2                  8   \n",
      "\n",
      "   days_since_prior_order  is_first_order  product_id  add_to_cart_order  \\\n",
      "0                     NaN               1         196                  1   \n",
      "1                     NaN               1       14084                  2   \n",
      "2                     NaN               1       12427                  3   \n",
      "3                     NaN               1       26088                  4   \n",
      "4                     NaN               1       26405                  5   \n",
      "\n",
      "   reordered  \n",
      "0          0  \n",
      "1          0  \n",
      "2          0  \n",
      "3          0  \n",
      "4          0  \n",
      "<class 'pandas.core.frame.DataFrame'>\n",
      "RangeIndex: 32434489 entries, 0 to 32434488\n",
      "Data columns (total 10 columns):\n",
      " #   Column                  Dtype  \n",
      "---  ------                  -----  \n",
      " 0   order_id                int64  \n",
      " 1   user_id                 int64  \n",
      " 2   order_number            int64  \n",
      " 3   orders_day_of_week      int64  \n",
      " 4   order_hour_of_day       int64  \n",
      " 5   days_since_prior_order  float64\n",
      " 6   is_first_order          int64  \n",
      " 7   product_id              int64  \n",
      " 8   add_to_cart_order       int64  \n",
      " 9   reordered               int64  \n",
      "dtypes: float64(1), int64(9)\n",
      "memory usage: 2.4 GB\n",
      "None\n"
     ]
    },
    {
     "data": {
      "text/plain": [
       "(32434489, 10)"
      ]
     },
     "execution_count": 8,
     "metadata": {},
     "output_type": "execute_result"
    }
   ],
   "source": [
    "# Check the results of dropping unnecessary columns\n",
    "print(df_ords_prods_combined.head())\n",
    "print(df_ords_prods_combined.info())\n",
    "df_ords_prods_combined.shape"
   ]
  },
  {
   "cell_type": "code",
   "execution_count": 9,
   "id": "5eb70008-8a99-4e26-85a5-4bea2714d886",
   "metadata": {},
   "outputs": [
    {
     "name": "stdout",
     "output_type": "stream",
     "text": [
      "   product_id                                       product_name  aisle_id  \\\n",
      "0           1                         Chocolate Sandwich Cookies        61   \n",
      "1           2                                   All-Seasons Salt       104   \n",
      "2           3               Robust Golden Unsweetened Oolong Tea        94   \n",
      "3           4  Smart Ones Classic Favorites Mini Rigatoni Wit...        38   \n",
      "4           5                          Green Chile Anytime Sauce         5   \n",
      "\n",
      "   department_id  prices  \n",
      "0             19     5.8  \n",
      "1             13     9.3  \n",
      "2              7     4.5  \n",
      "3              1    10.5  \n",
      "4             13     4.3  \n",
      "<class 'pandas.core.frame.DataFrame'>\n",
      "RangeIndex: 49672 entries, 0 to 49671\n",
      "Data columns (total 5 columns):\n",
      " #   Column         Non-Null Count  Dtype  \n",
      "---  ------         --------------  -----  \n",
      " 0   product_id     49672 non-null  int64  \n",
      " 1   product_name   49672 non-null  object \n",
      " 2   aisle_id       49672 non-null  int64  \n",
      " 3   department_id  49672 non-null  int64  \n",
      " 4   prices         49672 non-null  float64\n",
      "dtypes: float64(1), int64(3), object(1)\n",
      "memory usage: 1.9+ MB\n",
      "None\n"
     ]
    },
    {
     "data": {
      "text/plain": [
       "(49672, 5)"
      ]
     },
     "execution_count": 9,
     "metadata": {},
     "output_type": "execute_result"
    }
   ],
   "source": [
    "print(df_prods.head())\n",
    "print(df_prods.info())\n",
    "df_prods.shape"
   ]
  },
  {
   "cell_type": "code",
   "execution_count": 10,
   "id": "8f5005fd-5b9c-485f-a12b-40fdab32439c",
   "metadata": {},
   "outputs": [],
   "source": [
    "# Merge \"df_ords_prods_combined\" with \"df_prods\" using their common column \"product_id\"\n",
    "df_ords_prods_merge = df_prods.merge(df_ords_prods_combined, on = 'product_id', indicator = True)"
   ]
  },
  {
   "cell_type": "code",
   "execution_count": 11,
   "id": "b66e8cc8-92a6-43b5-8abb-b39268510733",
   "metadata": {},
   "outputs": [
    {
     "name": "stdout",
     "output_type": "stream",
     "text": [
      "   product_id                product_name  aisle_id  department_id  prices  \\\n",
      "0           1  Chocolate Sandwich Cookies        61             19     5.8   \n",
      "1           1  Chocolate Sandwich Cookies        61             19     5.8   \n",
      "2           1  Chocolate Sandwich Cookies        61             19     5.8   \n",
      "3           1  Chocolate Sandwich Cookies        61             19     5.8   \n",
      "4           1  Chocolate Sandwich Cookies        61             19     5.8   \n",
      "\n",
      "   order_id  user_id  order_number  orders_day_of_week  order_hour_of_day  \\\n",
      "0   3139998      138            28                   6                 11   \n",
      "1   1977647      138            30                   6                 17   \n",
      "2    389851      709             2                   0                 21   \n",
      "3    652770      764             1                   3                 13   \n",
      "4   1813452      764             3                   4                 17   \n",
      "\n",
      "   days_since_prior_order  is_first_order  add_to_cart_order  reordered _merge  \n",
      "0                     3.0               0                  5          0   both  \n",
      "1                    20.0               0                  1          1   both  \n",
      "2                     6.0               0                 20          0   both  \n",
      "3                     NaN               1                 10          0   both  \n",
      "4                     9.0               0                 11          1   both  \n",
      "<class 'pandas.core.frame.DataFrame'>\n",
      "RangeIndex: 32404859 entries, 0 to 32404858\n",
      "Data columns (total 15 columns):\n",
      " #   Column                  Dtype   \n",
      "---  ------                  -----   \n",
      " 0   product_id              int64   \n",
      " 1   product_name            object  \n",
      " 2   aisle_id                int64   \n",
      " 3   department_id           int64   \n",
      " 4   prices                  float64 \n",
      " 5   order_id                int64   \n",
      " 6   user_id                 int64   \n",
      " 7   order_number            int64   \n",
      " 8   orders_day_of_week      int64   \n",
      " 9   order_hour_of_day       int64   \n",
      " 10  days_since_prior_order  float64 \n",
      " 11  is_first_order          int64   \n",
      " 12  add_to_cart_order       int64   \n",
      " 13  reordered               int64   \n",
      " 14  _merge                  category\n",
      "dtypes: category(1), float64(2), int64(11), object(1)\n",
      "memory usage: 3.4+ GB\n",
      "None\n"
     ]
    },
    {
     "data": {
      "text/plain": [
       "(32404859, 15)"
      ]
     },
     "execution_count": 11,
     "metadata": {},
     "output_type": "execute_result"
    }
   ],
   "source": [
    "# Checking the results of the merged data\n",
    "print(df_ords_prods_merge.head())\n",
    "print(df_ords_prods_merge.info())\n",
    "df_ords_prods_merge.shape"
   ]
  },
  {
   "cell_type": "code",
   "execution_count": 12,
   "id": "90ffc557-7f52-4511-8641-5517b08670a3",
   "metadata": {},
   "outputs": [
    {
     "data": {
      "text/plain": [
       "_merge\n",
       "both          32404859\n",
       "left_only            0\n",
       "right_only           0\n",
       "Name: count, dtype: int64"
      ]
     },
     "execution_count": 12,
     "metadata": {},
     "output_type": "execute_result"
    }
   ],
   "source": [
    "# Checking the merge using the \"value_counts()\" function\n",
    "df_ords_prods_merge['_merge'].value_counts()"
   ]
  },
  {
   "cell_type": "markdown",
   "id": "4d9c6f5a-f882-440f-bffd-6524c01efe9e",
   "metadata": {},
   "source": [
    "## 3. Exporting the Merged Dataframe"
   ]
  },
  {
   "cell_type": "code",
   "execution_count": 13,
   "id": "512f7f99",
   "metadata": {},
   "outputs": [
    {
     "name": "stdout",
     "output_type": "stream",
     "text": [
      "   product_id                product_name  aisle_id  department_id  prices  \\\n",
      "0           1  Chocolate Sandwich Cookies        61             19     5.8   \n",
      "1           1  Chocolate Sandwich Cookies        61             19     5.8   \n",
      "2           1  Chocolate Sandwich Cookies        61             19     5.8   \n",
      "3           1  Chocolate Sandwich Cookies        61             19     5.8   \n",
      "4           1  Chocolate Sandwich Cookies        61             19     5.8   \n",
      "\n",
      "   order_id  user_id  order_number  orders_day_of_week  order_hour_of_day  \\\n",
      "0   3139998      138            28                   6                 11   \n",
      "1   1977647      138            30                   6                 17   \n",
      "2    389851      709             2                   0                 21   \n",
      "3    652770      764             1                   3                 13   \n",
      "4   1813452      764             3                   4                 17   \n",
      "\n",
      "   days_since_prior_order  is_first_order  add_to_cart_order  reordered _merge  \n",
      "0                     3.0               0                  5          0   both  \n",
      "1                    20.0               0                  1          1   both  \n",
      "2                     6.0               0                 20          0   both  \n",
      "3                     NaN               1                 10          0   both  \n",
      "4                     9.0               0                 11          1   both  \n",
      "<class 'pandas.core.frame.DataFrame'>\n",
      "RangeIndex: 32404859 entries, 0 to 32404858\n",
      "Data columns (total 15 columns):\n",
      " #   Column                  Dtype   \n",
      "---  ------                  -----   \n",
      " 0   product_id              int64   \n",
      " 1   product_name            object  \n",
      " 2   aisle_id                int64   \n",
      " 3   department_id           int64   \n",
      " 4   prices                  float64 \n",
      " 5   order_id                int64   \n",
      " 6   user_id                 int64   \n",
      " 7   order_number            int64   \n",
      " 8   orders_day_of_week      int64   \n",
      " 9   order_hour_of_day       int64   \n",
      " 10  days_since_prior_order  float64 \n",
      " 11  is_first_order          int64   \n",
      " 12  add_to_cart_order       int64   \n",
      " 13  reordered               int64   \n",
      " 14  _merge                  category\n",
      "dtypes: category(1), float64(2), int64(11), object(1)\n",
      "memory usage: 3.4+ GB\n",
      "None\n",
      "(32404859, 15)\n"
     ]
    }
   ],
   "source": [
    "# Perform a final check of the dataframe before exporting\n",
    "print(df_ords_prods_merge.head())\n",
    "print(df_ords_prods_merge.info())\n",
    "print(df_ords_prods_merge.shape)"
   ]
  },
  {
   "cell_type": "code",
   "execution_count": 14,
   "id": "25c5a12b-0483-4e95-9e89-0c6375879f27",
   "metadata": {},
   "outputs": [],
   "source": [
    "# Export the merged dataframe to Pickle as \"ords_prods_merge.pkl\"\n",
    "df_ords_prods_merge.to_pickle(os.path.join(path, 'Prepared Data', 'ords_prods_merge.pkl'))"
   ]
  },
  {
   "cell_type": "markdown",
   "id": "3ebb48f3-4a1f-4e23-90ae-2a1fb6d538b1",
   "metadata": {},
   "source": [
    "# End of Exercise 4.6 Part 2"
   ]
  }
 ],
 "metadata": {
  "kernelspec": {
   "display_name": "Python 3 (ipykernel)",
   "language": "python",
   "name": "python3"
  },
  "language_info": {
   "codemirror_mode": {
    "name": "ipython",
    "version": 3
   },
   "file_extension": ".py",
   "mimetype": "text/x-python",
   "name": "python",
   "nbconvert_exporter": "python",
   "pygments_lexer": "ipython3",
   "version": "3.11.7"
  }
 },
 "nbformat": 4,
 "nbformat_minor": 5
}
