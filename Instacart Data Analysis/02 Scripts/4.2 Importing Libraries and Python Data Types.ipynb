{
 "cells": [
  {
   "cell_type": "markdown",
   "id": "daa6b1e8-102e-4f9f-88ac-99b5c81c3dc4",
   "metadata": {},
   "source": [
    "## Importing Libraries"
   ]
  },
  {
   "cell_type": "code",
   "execution_count": 1,
   "id": "46b61e1f-a38d-465e-ad19-9733457b7307",
   "metadata": {},
   "outputs": [],
   "source": [
    "# Importing Pandas and NumPy Libraries\n",
    "import pandas as pd\n",
    "import numpy as np\n",
    "import os"
   ]
  },
  {
   "cell_type": "markdown",
   "id": "84eab149-435f-4904-bb0d-5209bf904d1b",
   "metadata": {},
   "source": [
    "## Working with Python Data Types"
   ]
  },
  {
   "cell_type": "code",
   "execution_count": 2,
   "id": "8bc88d7e-5642-4b96-a575-4edfde8ba7f9",
   "metadata": {},
   "outputs": [],
   "source": [
    "# Code 3 different ways of reaching a result of 100 by adding or subtracting numeric variables."
   ]
  },
  {
   "cell_type": "code",
   "execution_count": 3,
   "id": "7d5524b6-c02b-4287-a6c7-94463584d936",
   "metadata": {},
   "outputs": [
    {
     "data": {
      "text/plain": [
       "100"
      ]
     },
     "execution_count": 3,
     "metadata": {},
     "output_type": "execute_result"
    }
   ],
   "source": [
    "# Using Addition Only\n",
    "a = 50\n",
    "b = 50\n",
    "a + b"
   ]
  },
  {
   "cell_type": "code",
   "execution_count": 4,
   "id": "07a0bc3d-0a08-4881-a04e-5c95ed13ddfb",
   "metadata": {},
   "outputs": [
    {
     "data": {
      "text/plain": [
       "100"
      ]
     },
     "execution_count": 4,
     "metadata": {},
     "output_type": "execute_result"
    }
   ],
   "source": [
    "# Using Subtraction Only\n",
    "a = 150\n",
    "b = 50\n",
    "a - b"
   ]
  },
  {
   "cell_type": "code",
   "execution_count": 5,
   "id": "af2aef51-018e-48e3-b155-30c149c8cba4",
   "metadata": {},
   "outputs": [
    {
     "data": {
      "text/plain": [
       "100"
      ]
     },
     "execution_count": 5,
     "metadata": {},
     "output_type": "execute_result"
    }
   ],
   "source": [
    "# Using a Combination of Addition and Subtraction\n",
    "a = 200\n",
    "b = 150\n",
    "c = 50\n",
    "a - b + c"
   ]
  },
  {
   "cell_type": "code",
   "execution_count": 6,
   "id": "daea0f28-2d7b-458e-8642-f937fff8351b",
   "metadata": {},
   "outputs": [],
   "source": [
    "# Code 2 floating-point variables and divide them by each other."
   ]
  },
  {
   "cell_type": "code",
   "execution_count": 7,
   "id": "b32066cd-f60e-43a3-a765-38427704f618",
   "metadata": {},
   "outputs": [
    {
     "data": {
      "text/plain": [
       "26.513227513227516"
      ]
     },
     "execution_count": 7,
     "metadata": {},
     "output_type": "execute_result"
    }
   ],
   "source": [
    "# Example 1\n",
    "a = 150.33\n",
    "b = 5.67\n",
    "a / b"
   ]
  },
  {
   "cell_type": "code",
   "execution_count": 8,
   "id": "18e1d44e-6e3a-4b90-93a1-1fa8848c103b",
   "metadata": {},
   "outputs": [
    {
     "data": {
      "text/plain": [
       "1.2871004566210047"
      ]
     },
     "execution_count": 8,
     "metadata": {},
     "output_type": "execute_result"
    }
   ],
   "source": [
    "# Example 2\n",
    "a = 225.5\n",
    "b = 175.2\n",
    "a / b"
   ]
  },
  {
   "cell_type": "code",
   "execution_count": 9,
   "id": "4165037f-77dc-4968-b1a4-982889e1a14e",
   "metadata": {},
   "outputs": [
    {
     "data": {
      "text/plain": [
       "'anaconda'"
      ]
     },
     "execution_count": 9,
     "metadata": {},
     "output_type": "execute_result"
    }
   ],
   "source": [
    "# Construct a short word made of separate strings\n",
    "a = 'an'\n",
    "b = 'a'\n",
    "c = 'con'\n",
    "d = 'da'\n",
    "a + b + c + d"
   ]
  },
  {
   "cell_type": "code",
   "execution_count": 10,
   "id": "4dbfc722-6d14-435e-b3a0-3d63012a22be",
   "metadata": {},
   "outputs": [],
   "source": [
    "# Construct 2 short sentences made of separate strings."
   ]
  },
  {
   "cell_type": "code",
   "execution_count": 11,
   "id": "0e2b6f6f-fe2f-4220-9ae3-db19d1d21a9b",
   "metadata": {},
   "outputs": [
    {
     "data": {
      "text/plain": [
       "'I am learning to write Python code.'"
      ]
     },
     "execution_count": 11,
     "metadata": {},
     "output_type": "execute_result"
    }
   ],
   "source": [
    "# Example 1\n",
    "a = 'I am '\n",
    "b = 'learning to '\n",
    "c = 'write '\n",
    "d = 'Python code.'\n",
    "a + b + c + d"
   ]
  },
  {
   "cell_type": "code",
   "execution_count": 12,
   "id": "d244308d-4369-4ab5-88aa-93d1bdc0eb7f",
   "metadata": {},
   "outputs": [
    {
     "data": {
      "text/plain": [
       "'It is almost summer.'"
      ]
     },
     "execution_count": 12,
     "metadata": {},
     "output_type": "execute_result"
    }
   ],
   "source": [
    "# Example 2\n",
    "a = 'It i'\n",
    "b = 's alm'\n",
    "c = 'ost su'\n",
    "d = 'mmer.'\n",
    "a + b + c + d"
   ]
  },
  {
   "cell_type": "code",
   "execution_count": null,
   "id": "2dd5a505-dd1e-4fe4-af4e-8d379809b5fb",
   "metadata": {},
   "outputs": [],
   "source": []
  }
 ],
 "metadata": {
  "kernelspec": {
   "display_name": "Python 3 (ipykernel)",
   "language": "python",
   "name": "python3"
  },
  "language_info": {
   "codemirror_mode": {
    "name": "ipython",
    "version": 3
   },
   "file_extension": ".py",
   "mimetype": "text/x-python",
   "name": "python",
   "nbconvert_exporter": "python",
   "pygments_lexer": "ipython3",
   "version": "3.11.7"
  }
 },
 "nbformat": 4,
 "nbformat_minor": 5
}
